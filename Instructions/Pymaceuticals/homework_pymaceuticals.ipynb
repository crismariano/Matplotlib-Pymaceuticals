{
 "cells": [
  {
   "cell_type": "markdown",
   "metadata": {},
   "source": [
    "## Observations and Insights "
   ]
  },
  {
   "cell_type": "markdown",
   "metadata": {},
   "source": []
  },
  {
   "cell_type": "code",
   "execution_count": 1,
   "metadata": {},
   "outputs": [],
   "source": [
    "# Observations for Pymaceutical Homework\n",
    "\n",
    "# 1) The correlation coefficient of .83 is a positive measure between mouse weight and average tumor volume.\n",
    "# 2) Mouse ID s185 seems to be the most successful trial for drug regimen Capomulin. \n",
    "# 3) The tumor volumes increased for drug regimen Zoniferol, Stelasyn, Propriva, Naftisol, and Ketapril\n",
    "# 4) Placebo increased tumor volume.\n",
    "# 5) Trial researchers and drug developers should look at the drug elements for Capomulin, Ramicane, \n",
    "#    Infubinol, and Ceftamin, since these were the regimens that decreased tumor volume."
   ]
  },
  {
   "cell_type": "code",
   "execution_count": 2,
   "metadata": {},
   "outputs": [],
   "source": [
    "# Dependencies and Setup\n",
    "import matplotlib.pyplot as plt\n",
    "import pandas as pd\n",
    "import scipy.stats as st\n",
    "from scipy.stats import linregress\n",
    "import numpy as np\n",
    "\n",
    "# Study data files\n",
    "mouse_metadata_path = \"data/Mouse_metadata.csv\"\n",
    "study_results_path = \"data/Study_results.csv\"\n",
    "\n",
    "# Read the mouse data and the study results\n",
    "# DataFrames for both files\n",
    "mouse_metadata = pd.read_csv(mouse_metadata_path)\n",
    "study_results = pd.read_csv(study_results_path)\n",
    "\n",
    "# Combine the data into a single dataset\n",
    "# Display the data table for preview"
   ]
  },
  {
   "cell_type": "code",
   "execution_count": 3,
   "metadata": {},
   "outputs": [
    {
     "data": {
      "text/html": [
       "<div>\n",
       "<style scoped>\n",
       "    .dataframe tbody tr th:only-of-type {\n",
       "        vertical-align: middle;\n",
       "    }\n",
       "\n",
       "    .dataframe tbody tr th {\n",
       "        vertical-align: top;\n",
       "    }\n",
       "\n",
       "    .dataframe thead th {\n",
       "        text-align: right;\n",
       "    }\n",
       "</style>\n",
       "<table border=\"1\" class=\"dataframe\">\n",
       "  <thead>\n",
       "    <tr style=\"text-align: right;\">\n",
       "      <th></th>\n",
       "      <th>Mouse ID</th>\n",
       "      <th>Drug Regimen</th>\n",
       "      <th>Sex</th>\n",
       "      <th>Age_months</th>\n",
       "      <th>Weight (g)</th>\n",
       "    </tr>\n",
       "  </thead>\n",
       "  <tbody>\n",
       "    <tr>\n",
       "      <th>0</th>\n",
       "      <td>k403</td>\n",
       "      <td>Ramicane</td>\n",
       "      <td>Male</td>\n",
       "      <td>21</td>\n",
       "      <td>16</td>\n",
       "    </tr>\n",
       "    <tr>\n",
       "      <th>1</th>\n",
       "      <td>s185</td>\n",
       "      <td>Capomulin</td>\n",
       "      <td>Female</td>\n",
       "      <td>3</td>\n",
       "      <td>17</td>\n",
       "    </tr>\n",
       "    <tr>\n",
       "      <th>2</th>\n",
       "      <td>x401</td>\n",
       "      <td>Capomulin</td>\n",
       "      <td>Female</td>\n",
       "      <td>16</td>\n",
       "      <td>15</td>\n",
       "    </tr>\n",
       "    <tr>\n",
       "      <th>3</th>\n",
       "      <td>m601</td>\n",
       "      <td>Capomulin</td>\n",
       "      <td>Male</td>\n",
       "      <td>22</td>\n",
       "      <td>17</td>\n",
       "    </tr>\n",
       "    <tr>\n",
       "      <th>4</th>\n",
       "      <td>g791</td>\n",
       "      <td>Ramicane</td>\n",
       "      <td>Male</td>\n",
       "      <td>11</td>\n",
       "      <td>16</td>\n",
       "    </tr>\n",
       "  </tbody>\n",
       "</table>\n",
       "</div>"
      ],
      "text/plain": [
       "  Mouse ID Drug Regimen     Sex  Age_months  Weight (g)\n",
       "0     k403     Ramicane    Male          21          16\n",
       "1     s185    Capomulin  Female           3          17\n",
       "2     x401    Capomulin  Female          16          15\n",
       "3     m601    Capomulin    Male          22          17\n",
       "4     g791     Ramicane    Male          11          16"
      ]
     },
     "execution_count": 3,
     "metadata": {},
     "output_type": "execute_result"
    }
   ],
   "source": [
    "# Homework Requirement\n",
    "# Preview the mouse data to see the heading and columns of the dataset\n",
    "\n",
    "mouse_metadata.head()"
   ]
  },
  {
   "cell_type": "code",
   "execution_count": 4,
   "metadata": {},
   "outputs": [
    {
     "data": {
      "text/html": [
       "<div>\n",
       "<style scoped>\n",
       "    .dataframe tbody tr th:only-of-type {\n",
       "        vertical-align: middle;\n",
       "    }\n",
       "\n",
       "    .dataframe tbody tr th {\n",
       "        vertical-align: top;\n",
       "    }\n",
       "\n",
       "    .dataframe thead th {\n",
       "        text-align: right;\n",
       "    }\n",
       "</style>\n",
       "<table border=\"1\" class=\"dataframe\">\n",
       "  <thead>\n",
       "    <tr style=\"text-align: right;\">\n",
       "      <th></th>\n",
       "      <th>Mouse ID</th>\n",
       "      <th>Timepoint</th>\n",
       "      <th>Tumor Volume (mm3)</th>\n",
       "      <th>Metastatic Sites</th>\n",
       "    </tr>\n",
       "  </thead>\n",
       "  <tbody>\n",
       "    <tr>\n",
       "      <th>0</th>\n",
       "      <td>b128</td>\n",
       "      <td>0</td>\n",
       "      <td>45.0</td>\n",
       "      <td>0</td>\n",
       "    </tr>\n",
       "    <tr>\n",
       "      <th>1</th>\n",
       "      <td>f932</td>\n",
       "      <td>0</td>\n",
       "      <td>45.0</td>\n",
       "      <td>0</td>\n",
       "    </tr>\n",
       "    <tr>\n",
       "      <th>2</th>\n",
       "      <td>g107</td>\n",
       "      <td>0</td>\n",
       "      <td>45.0</td>\n",
       "      <td>0</td>\n",
       "    </tr>\n",
       "    <tr>\n",
       "      <th>3</th>\n",
       "      <td>a457</td>\n",
       "      <td>0</td>\n",
       "      <td>45.0</td>\n",
       "      <td>0</td>\n",
       "    </tr>\n",
       "    <tr>\n",
       "      <th>4</th>\n",
       "      <td>c819</td>\n",
       "      <td>0</td>\n",
       "      <td>45.0</td>\n",
       "      <td>0</td>\n",
       "    </tr>\n",
       "  </tbody>\n",
       "</table>\n",
       "</div>"
      ],
      "text/plain": [
       "  Mouse ID  Timepoint  Tumor Volume (mm3)  Metastatic Sites\n",
       "0     b128          0                45.0                 0\n",
       "1     f932          0                45.0                 0\n",
       "2     g107          0                45.0                 0\n",
       "3     a457          0                45.0                 0\n",
       "4     c819          0                45.0                 0"
      ]
     },
     "execution_count": 4,
     "metadata": {},
     "output_type": "execute_result"
    }
   ],
   "source": [
    "# Homework Requirement\n",
    "# Preview the study results to see the heading and columns of the dataset\n",
    "\n",
    "study_results.head()"
   ]
  },
  {
   "cell_type": "code",
   "execution_count": 5,
   "metadata": {},
   "outputs": [],
   "source": [
    "# Homework Requirement\n",
    "# Combine the mouse data and the study results\n",
    "# Use pd.merge inner join, use the Mouse ID for merge.  The Mouse ID is the unique identifier for both data sets.\n",
    "\n",
    "mouse_study = pd.merge(mouse_metadata, study_results, on='Mouse ID', how='inner')"
   ]
  },
  {
   "cell_type": "code",
   "execution_count": 6,
   "metadata": {},
   "outputs": [
    {
     "data": {
      "text/html": [
       "<div>\n",
       "<style scoped>\n",
       "    .dataframe tbody tr th:only-of-type {\n",
       "        vertical-align: middle;\n",
       "    }\n",
       "\n",
       "    .dataframe tbody tr th {\n",
       "        vertical-align: top;\n",
       "    }\n",
       "\n",
       "    .dataframe thead th {\n",
       "        text-align: right;\n",
       "    }\n",
       "</style>\n",
       "<table border=\"1\" class=\"dataframe\">\n",
       "  <thead>\n",
       "    <tr style=\"text-align: right;\">\n",
       "      <th></th>\n",
       "      <th>Mouse ID</th>\n",
       "      <th>Drug Regimen</th>\n",
       "      <th>Sex</th>\n",
       "      <th>Age_months</th>\n",
       "      <th>Weight (g)</th>\n",
       "      <th>Timepoint</th>\n",
       "      <th>Tumor Volume (mm3)</th>\n",
       "      <th>Metastatic Sites</th>\n",
       "    </tr>\n",
       "  </thead>\n",
       "  <tbody>\n",
       "    <tr>\n",
       "      <th>0</th>\n",
       "      <td>k403</td>\n",
       "      <td>Ramicane</td>\n",
       "      <td>Male</td>\n",
       "      <td>21</td>\n",
       "      <td>16</td>\n",
       "      <td>0</td>\n",
       "      <td>45.000000</td>\n",
       "      <td>0</td>\n",
       "    </tr>\n",
       "    <tr>\n",
       "      <th>1</th>\n",
       "      <td>k403</td>\n",
       "      <td>Ramicane</td>\n",
       "      <td>Male</td>\n",
       "      <td>21</td>\n",
       "      <td>16</td>\n",
       "      <td>5</td>\n",
       "      <td>38.825898</td>\n",
       "      <td>0</td>\n",
       "    </tr>\n",
       "    <tr>\n",
       "      <th>2</th>\n",
       "      <td>k403</td>\n",
       "      <td>Ramicane</td>\n",
       "      <td>Male</td>\n",
       "      <td>21</td>\n",
       "      <td>16</td>\n",
       "      <td>10</td>\n",
       "      <td>35.014271</td>\n",
       "      <td>1</td>\n",
       "    </tr>\n",
       "    <tr>\n",
       "      <th>3</th>\n",
       "      <td>k403</td>\n",
       "      <td>Ramicane</td>\n",
       "      <td>Male</td>\n",
       "      <td>21</td>\n",
       "      <td>16</td>\n",
       "      <td>15</td>\n",
       "      <td>34.223992</td>\n",
       "      <td>1</td>\n",
       "    </tr>\n",
       "    <tr>\n",
       "      <th>4</th>\n",
       "      <td>k403</td>\n",
       "      <td>Ramicane</td>\n",
       "      <td>Male</td>\n",
       "      <td>21</td>\n",
       "      <td>16</td>\n",
       "      <td>20</td>\n",
       "      <td>32.997729</td>\n",
       "      <td>1</td>\n",
       "    </tr>\n",
       "  </tbody>\n",
       "</table>\n",
       "</div>"
      ],
      "text/plain": [
       "  Mouse ID Drug Regimen   Sex  Age_months  Weight (g)  Timepoint  \\\n",
       "0     k403     Ramicane  Male          21          16          0   \n",
       "1     k403     Ramicane  Male          21          16          5   \n",
       "2     k403     Ramicane  Male          21          16         10   \n",
       "3     k403     Ramicane  Male          21          16         15   \n",
       "4     k403     Ramicane  Male          21          16         20   \n",
       "\n",
       "   Tumor Volume (mm3)  Metastatic Sites  \n",
       "0           45.000000                 0  \n",
       "1           38.825898                 0  \n",
       "2           35.014271                 1  \n",
       "3           34.223992                 1  \n",
       "4           32.997729                 1  "
      ]
     },
     "execution_count": 6,
     "metadata": {},
     "output_type": "execute_result"
    }
   ],
   "source": [
    "# Homework Requirement\n",
    "# Display the data table for preview\n",
    "\n",
    "mouse_study.head()"
   ]
  },
  {
   "cell_type": "code",
   "execution_count": 7,
   "metadata": {},
   "outputs": [
    {
     "name": "stdout",
     "output_type": "stream",
     "text": [
      "The mice count in the study is 249.\n"
     ]
    }
   ],
   "source": [
    "# Homework Requirement\n",
    "# Checking the number of mice. Use .nunique()\n",
    "\n",
    "mouse_id_count = mouse_study[\"Mouse ID\"].nunique()\n",
    "print(\"The mice count in the study is \" + str(mouse_id_count) + \".\")"
   ]
  },
  {
   "cell_type": "code",
   "execution_count": 8,
   "metadata": {},
   "outputs": [
    {
     "data": {
      "text/plain": [
       "5"
      ]
     },
     "execution_count": 8,
     "metadata": {},
     "output_type": "execute_result"
    }
   ],
   "source": [
    "# Homework Requirement\n",
    "# Getting the duplicate mice by ID number that shows up for Mouse ID and Timepoint. Use duplicated()\n",
    "\n",
    "mouse_study.duplicated(subset=['Mouse ID', 'Timepoint']).sum()"
   ]
  },
  {
   "cell_type": "code",
   "execution_count": 9,
   "metadata": {},
   "outputs": [
    {
     "data": {
      "text/html": [
       "<div>\n",
       "<style scoped>\n",
       "    .dataframe tbody tr th:only-of-type {\n",
       "        vertical-align: middle;\n",
       "    }\n",
       "\n",
       "    .dataframe tbody tr th {\n",
       "        vertical-align: top;\n",
       "    }\n",
       "\n",
       "    .dataframe thead th {\n",
       "        text-align: right;\n",
       "    }\n",
       "</style>\n",
       "<table border=\"1\" class=\"dataframe\">\n",
       "  <thead>\n",
       "    <tr style=\"text-align: right;\">\n",
       "      <th></th>\n",
       "      <th>Mouse ID</th>\n",
       "      <th>Drug Regimen</th>\n",
       "      <th>Sex</th>\n",
       "      <th>Age_months</th>\n",
       "      <th>Weight (g)</th>\n",
       "      <th>Timepoint</th>\n",
       "      <th>Tumor Volume (mm3)</th>\n",
       "      <th>Metastatic Sites</th>\n",
       "    </tr>\n",
       "  </thead>\n",
       "  <tbody>\n",
       "    <tr>\n",
       "      <th>909</th>\n",
       "      <td>g989</td>\n",
       "      <td>Propriva</td>\n",
       "      <td>Female</td>\n",
       "      <td>21</td>\n",
       "      <td>26</td>\n",
       "      <td>0</td>\n",
       "      <td>45.000000</td>\n",
       "      <td>0</td>\n",
       "    </tr>\n",
       "    <tr>\n",
       "      <th>911</th>\n",
       "      <td>g989</td>\n",
       "      <td>Propriva</td>\n",
       "      <td>Female</td>\n",
       "      <td>21</td>\n",
       "      <td>26</td>\n",
       "      <td>5</td>\n",
       "      <td>47.570392</td>\n",
       "      <td>0</td>\n",
       "    </tr>\n",
       "    <tr>\n",
       "      <th>913</th>\n",
       "      <td>g989</td>\n",
       "      <td>Propriva</td>\n",
       "      <td>Female</td>\n",
       "      <td>21</td>\n",
       "      <td>26</td>\n",
       "      <td>10</td>\n",
       "      <td>49.880528</td>\n",
       "      <td>0</td>\n",
       "    </tr>\n",
       "    <tr>\n",
       "      <th>915</th>\n",
       "      <td>g989</td>\n",
       "      <td>Propriva</td>\n",
       "      <td>Female</td>\n",
       "      <td>21</td>\n",
       "      <td>26</td>\n",
       "      <td>15</td>\n",
       "      <td>53.442020</td>\n",
       "      <td>0</td>\n",
       "    </tr>\n",
       "    <tr>\n",
       "      <th>917</th>\n",
       "      <td>g989</td>\n",
       "      <td>Propriva</td>\n",
       "      <td>Female</td>\n",
       "      <td>21</td>\n",
       "      <td>26</td>\n",
       "      <td>20</td>\n",
       "      <td>54.657650</td>\n",
       "      <td>1</td>\n",
       "    </tr>\n",
       "  </tbody>\n",
       "</table>\n",
       "</div>"
      ],
      "text/plain": [
       "    Mouse ID Drug Regimen     Sex  Age_months  Weight (g)  Timepoint  \\\n",
       "909     g989     Propriva  Female          21          26          0   \n",
       "911     g989     Propriva  Female          21          26          5   \n",
       "913     g989     Propriva  Female          21          26         10   \n",
       "915     g989     Propriva  Female          21          26         15   \n",
       "917     g989     Propriva  Female          21          26         20   \n",
       "\n",
       "     Tumor Volume (mm3)  Metastatic Sites  \n",
       "909           45.000000                 0  \n",
       "911           47.570392                 0  \n",
       "913           49.880528                 0  \n",
       "915           53.442020                 0  \n",
       "917           54.657650                 1  "
      ]
     },
     "execution_count": 9,
     "metadata": {},
     "output_type": "execute_result"
    }
   ],
   "source": [
    "# Homework Requirement\n",
    "# Optional: Get all the data for the duplicate mouse ID. \n",
    "# Note that Mouse ID g989 is the mouse with duplicate timepoints, and only dropping the last timepoint for each \n",
    "# duplicate. Mouse ID g989 is still in the dataframe.\n",
    "\n",
    "mouse_study.loc[mouse_study[['Mouse ID', 'Timepoint']].duplicated(keep='first'), :]"
   ]
  },
  {
   "cell_type": "code",
   "execution_count": 10,
   "metadata": {},
   "outputs": [],
   "source": [
    "# Homework Requirement\n",
    "# Create a clean DataFrame by dropping the duplicate mouse by its ID. Use .drop_duplicates()\n",
    "\n",
    "clean_mouse_study = mouse_study.drop_duplicates(subset=['Mouse ID', 'Timepoint'])"
   ]
  },
  {
   "cell_type": "code",
   "execution_count": 11,
   "metadata": {},
   "outputs": [
    {
     "name": "stdout",
     "output_type": "stream",
     "text": [
      "The mice count from the clean dataframe is 249.\n"
     ]
    }
   ],
   "source": [
    "# Homework Requirement\n",
    "# Checking the number of mice in the clean DataFrame.\n",
    "# The mice count is still the same without the duplicated timepoints for Mouse ID g989.\n",
    "\n",
    "mice_count = clean_mouse_study['Mouse ID'].nunique()\n",
    "print(\"The mice count from the clean dataframe is \" + str(mice_count) + \".\")"
   ]
  },
  {
   "cell_type": "code",
   "execution_count": 12,
   "metadata": {},
   "outputs": [
    {
     "data": {
      "text/plain": [
       "Mouse ID              1888\n",
       "Drug Regimen          1888\n",
       "Sex                   1888\n",
       "Age_months            1888\n",
       "Weight (g)            1888\n",
       "Timepoint             1888\n",
       "Tumor Volume (mm3)    1888\n",
       "Metastatic Sites      1888\n",
       "dtype: int64"
      ]
     },
     "execution_count": 12,
     "metadata": {},
     "output_type": "execute_result"
    }
   ],
   "source": [
    "# Check row counts for clean DataFrame\n",
    "# Note, that the original row count from mouse_study DataFrame had 1893 rows.\n",
    "# The new clean DataFrame excludes the duplicate Mouse ID 'g989' of 5 rows.\n",
    "\n",
    "clean_mouse_study.count()"
   ]
  },
  {
   "cell_type": "code",
   "execution_count": 13,
   "metadata": {},
   "outputs": [
    {
     "data": {
      "text/html": [
       "<div>\n",
       "<style scoped>\n",
       "    .dataframe tbody tr th:only-of-type {\n",
       "        vertical-align: middle;\n",
       "    }\n",
       "\n",
       "    .dataframe tbody tr th {\n",
       "        vertical-align: top;\n",
       "    }\n",
       "\n",
       "    .dataframe thead th {\n",
       "        text-align: right;\n",
       "    }\n",
       "</style>\n",
       "<table border=\"1\" class=\"dataframe\">\n",
       "  <thead>\n",
       "    <tr style=\"text-align: right;\">\n",
       "      <th></th>\n",
       "      <th>Mouse ID</th>\n",
       "      <th>Drug Regimen</th>\n",
       "      <th>Sex</th>\n",
       "      <th>Age_months</th>\n",
       "      <th>Weight (g)</th>\n",
       "      <th>Timepoint</th>\n",
       "      <th>Tumor Volume (mm3)</th>\n",
       "      <th>Metastatic Sites</th>\n",
       "    </tr>\n",
       "  </thead>\n",
       "  <tbody>\n",
       "    <tr>\n",
       "      <th>0</th>\n",
       "      <td>k403</td>\n",
       "      <td>Ramicane</td>\n",
       "      <td>Male</td>\n",
       "      <td>21</td>\n",
       "      <td>16</td>\n",
       "      <td>0</td>\n",
       "      <td>45.000000</td>\n",
       "      <td>0</td>\n",
       "    </tr>\n",
       "    <tr>\n",
       "      <th>1</th>\n",
       "      <td>k403</td>\n",
       "      <td>Ramicane</td>\n",
       "      <td>Male</td>\n",
       "      <td>21</td>\n",
       "      <td>16</td>\n",
       "      <td>5</td>\n",
       "      <td>38.825898</td>\n",
       "      <td>0</td>\n",
       "    </tr>\n",
       "    <tr>\n",
       "      <th>2</th>\n",
       "      <td>k403</td>\n",
       "      <td>Ramicane</td>\n",
       "      <td>Male</td>\n",
       "      <td>21</td>\n",
       "      <td>16</td>\n",
       "      <td>10</td>\n",
       "      <td>35.014271</td>\n",
       "      <td>1</td>\n",
       "    </tr>\n",
       "    <tr>\n",
       "      <th>3</th>\n",
       "      <td>k403</td>\n",
       "      <td>Ramicane</td>\n",
       "      <td>Male</td>\n",
       "      <td>21</td>\n",
       "      <td>16</td>\n",
       "      <td>15</td>\n",
       "      <td>34.223992</td>\n",
       "      <td>1</td>\n",
       "    </tr>\n",
       "    <tr>\n",
       "      <th>4</th>\n",
       "      <td>k403</td>\n",
       "      <td>Ramicane</td>\n",
       "      <td>Male</td>\n",
       "      <td>21</td>\n",
       "      <td>16</td>\n",
       "      <td>20</td>\n",
       "      <td>32.997729</td>\n",
       "      <td>1</td>\n",
       "    </tr>\n",
       "  </tbody>\n",
       "</table>\n",
       "</div>"
      ],
      "text/plain": [
       "  Mouse ID Drug Regimen   Sex  Age_months  Weight (g)  Timepoint  \\\n",
       "0     k403     Ramicane  Male          21          16          0   \n",
       "1     k403     Ramicane  Male          21          16          5   \n",
       "2     k403     Ramicane  Male          21          16         10   \n",
       "3     k403     Ramicane  Male          21          16         15   \n",
       "4     k403     Ramicane  Male          21          16         20   \n",
       "\n",
       "   Tumor Volume (mm3)  Metastatic Sites  \n",
       "0           45.000000                 0  \n",
       "1           38.825898                 0  \n",
       "2           35.014271                 1  \n",
       "3           34.223992                 1  \n",
       "4           32.997729                 1  "
      ]
     },
     "execution_count": 13,
     "metadata": {},
     "output_type": "execute_result"
    }
   ],
   "source": [
    "# Preview clean DataFrame\n",
    "\n",
    "clean_mouse_study.head()"
   ]
  },
  {
   "cell_type": "markdown",
   "metadata": {},
   "source": [
    "## Summary Statistics"
   ]
  },
  {
   "cell_type": "code",
   "execution_count": 14,
   "metadata": {},
   "outputs": [
    {
     "data": {
      "text/html": [
       "<div>\n",
       "<style scoped>\n",
       "    .dataframe tbody tr th:only-of-type {\n",
       "        vertical-align: middle;\n",
       "    }\n",
       "\n",
       "    .dataframe tbody tr th {\n",
       "        vertical-align: top;\n",
       "    }\n",
       "\n",
       "    .dataframe thead th {\n",
       "        text-align: right;\n",
       "    }\n",
       "</style>\n",
       "<table border=\"1\" class=\"dataframe\">\n",
       "  <thead>\n",
       "    <tr style=\"text-align: right;\">\n",
       "      <th></th>\n",
       "      <th>Mean</th>\n",
       "      <th>Median</th>\n",
       "      <th>Variance</th>\n",
       "      <th>Standard Deviation</th>\n",
       "      <th>SEM</th>\n",
       "    </tr>\n",
       "  </thead>\n",
       "  <tbody>\n",
       "    <tr>\n",
       "      <th>Capomulin</th>\n",
       "      <td>40.68</td>\n",
       "      <td>41.56</td>\n",
       "      <td>24.95</td>\n",
       "      <td>4.99</td>\n",
       "      <td>0.33</td>\n",
       "    </tr>\n",
       "    <tr>\n",
       "      <th>Ceftamin</th>\n",
       "      <td>52.59</td>\n",
       "      <td>51.78</td>\n",
       "      <td>39.29</td>\n",
       "      <td>6.27</td>\n",
       "      <td>0.47</td>\n",
       "    </tr>\n",
       "    <tr>\n",
       "      <th>Infubinol</th>\n",
       "      <td>52.88</td>\n",
       "      <td>51.82</td>\n",
       "      <td>43.13</td>\n",
       "      <td>6.57</td>\n",
       "      <td>0.49</td>\n",
       "    </tr>\n",
       "    <tr>\n",
       "      <th>Ketapril</th>\n",
       "      <td>55.24</td>\n",
       "      <td>53.70</td>\n",
       "      <td>68.55</td>\n",
       "      <td>8.28</td>\n",
       "      <td>0.60</td>\n",
       "    </tr>\n",
       "    <tr>\n",
       "      <th>Naftisol</th>\n",
       "      <td>54.33</td>\n",
       "      <td>52.51</td>\n",
       "      <td>66.17</td>\n",
       "      <td>8.13</td>\n",
       "      <td>0.60</td>\n",
       "    </tr>\n",
       "    <tr>\n",
       "      <th>Placebo</th>\n",
       "      <td>54.03</td>\n",
       "      <td>52.29</td>\n",
       "      <td>61.17</td>\n",
       "      <td>7.82</td>\n",
       "      <td>0.58</td>\n",
       "    </tr>\n",
       "    <tr>\n",
       "      <th>Propriva</th>\n",
       "      <td>52.39</td>\n",
       "      <td>50.91</td>\n",
       "      <td>43.14</td>\n",
       "      <td>6.57</td>\n",
       "      <td>0.53</td>\n",
       "    </tr>\n",
       "    <tr>\n",
       "      <th>Ramicane</th>\n",
       "      <td>40.22</td>\n",
       "      <td>40.67</td>\n",
       "      <td>23.49</td>\n",
       "      <td>4.85</td>\n",
       "      <td>0.32</td>\n",
       "    </tr>\n",
       "    <tr>\n",
       "      <th>Stelasyn</th>\n",
       "      <td>54.23</td>\n",
       "      <td>52.43</td>\n",
       "      <td>59.45</td>\n",
       "      <td>7.71</td>\n",
       "      <td>0.57</td>\n",
       "    </tr>\n",
       "    <tr>\n",
       "      <th>Zoniferol</th>\n",
       "      <td>53.24</td>\n",
       "      <td>51.82</td>\n",
       "      <td>48.53</td>\n",
       "      <td>6.97</td>\n",
       "      <td>0.52</td>\n",
       "    </tr>\n",
       "  </tbody>\n",
       "</table>\n",
       "</div>"
      ],
      "text/plain": [
       "            Mean  Median  Variance  Standard Deviation   SEM\n",
       "Capomulin  40.68   41.56     24.95                4.99  0.33\n",
       "Ceftamin   52.59   51.78     39.29                6.27  0.47\n",
       "Infubinol  52.88   51.82     43.13                6.57  0.49\n",
       "Ketapril   55.24   53.70     68.55                8.28  0.60\n",
       "Naftisol   54.33   52.51     66.17                8.13  0.60\n",
       "Placebo    54.03   52.29     61.17                7.82  0.58\n",
       "Propriva   52.39   50.91     43.14                6.57  0.53\n",
       "Ramicane   40.22   40.67     23.49                4.85  0.32\n",
       "Stelasyn   54.23   52.43     59.45                7.71  0.57\n",
       "Zoniferol  53.24   51.82     48.53                6.97  0.52"
      ]
     },
     "execution_count": 14,
     "metadata": {},
     "output_type": "execute_result"
    }
   ],
   "source": [
    "# Homework Requirement\n",
    "# Generate a summary statistics table of mean, median, variance, standard deviation, \n",
    "# and SEM of the tumor volume for each regimen\n",
    "# This method produces everything in a single groupby function\n",
    "# This method is the most straighforward, creating multiple series and putting them all together at the end.\n",
    "\n",
    "# Use groupby () for column Drug Regimen to calculate statistics\n",
    "drug_regimen = clean_mouse_study.groupby(['Drug Regimen'])\n",
    "\n",
    "# Mean Drug Regimen\n",
    "mean_drug_regimen = drug_regimen['Tumor Volume (mm3)'].mean()\n",
    "\n",
    "# Median Drug Regimen\n",
    "median_drug_regimen = drug_regimen['Tumor Volume (mm3)'].median()\n",
    "\n",
    "# Variance Drug Regimen\n",
    "var_drug_regimen = drug_regimen['Tumor Volume (mm3)'].var()\n",
    "\n",
    "# Standard Deviation Drug Regimen\n",
    "std_drug_regimen = drug_regimen['Tumor Volume (mm3)'].std()\n",
    "\n",
    "# SEM Drug Regimen\n",
    "sem_drug_regimen = drug_regimen['Tumor Volume (mm3)'].sem()\n",
    "\n",
    "# Summary Table of Drug Regimen Statistics\n",
    "stats_drug_regimen = ({\"Mean\": round(mean_drug_regimen, 2),\n",
    "                       \"Median\": round(median_drug_regimen, 2),\n",
    "                       \"Variance\": round(var_drug_regimen, 2),\n",
    "                       \"Standard Deviation\": round(std_drug_regimen, 2),\n",
    "                       \"SEM\": round(sem_drug_regimen, 2),\n",
    "                       })\n",
    "\n",
    "labels = ['Capomulin', 'Ceftamin', 'Infubinol', 'Ketapril', 'Naftisol',\n",
    "         'Placebo', 'Propriva', 'Ramicane', 'Stelasyn', 'Zoniferol']\n",
    "\n",
    "summary_drug_regimen = pd.DataFrame(stats_drug_regimen, index=labels)\n",
    "summary_drug_regimen"
   ]
  },
  {
   "cell_type": "markdown",
   "metadata": {},
   "source": [
    "## Bar and Pie Charts"
   ]
  },
  {
   "cell_type": "code",
   "execution_count": 15,
   "metadata": {},
   "outputs": [
    {
     "data": {
      "image/png": "[encoded data removed]",
      "text/plain": [
       "<Figure size 432x288 with 1 Axes>"
      ]
     },
     "metadata": {
      "needs_background": "light"
     },
     "output_type": "display_data"
    }
   ],
   "source": [
    "# Homework Requirement\n",
    "# Generate a bar plot showing the total number of mice for each treatment throughout the course of the study using pandas. \n",
    "\n",
    "# Select the Drug Regimen and Mouse ID for Bar Plot, groupby Drug Regimen and unique count for Mouse ID\n",
    "study_group = clean_mouse_study.groupby(['Drug Regimen'])\n",
    "mouse_countby_study = study_group['Mouse ID'].nunique()\n",
    "\n",
    "#Bar Plot\n",
    "mouse_countby_study.plot(kind='bar', facecolor='red')\n",
    "plt.title(\"Pymaceuticals Drug Study\")\n",
    "plt.ylabel(\"Number of Mice per Study\")\n",
    "plt.xlabel(\"Treatment Names\")\n",
    "plt.show()"
   ]
  },
  {
   "cell_type": "code",
   "execution_count": 16,
   "metadata": {},
   "outputs": [
    {
     "data": {
      "text/plain": [
       "Drug Regimen\n",
       "Capomulin    25\n",
       "Ceftamin     25\n",
       "Infubinol    25\n",
       "Ketapril     25\n",
       "Naftisol     25\n",
       "Placebo      25\n",
       "Propriva     25\n",
       "Ramicane     25\n",
       "Stelasyn     24\n",
       "Zoniferol    25\n",
       "Name: Mouse ID, dtype: int64"
      ]
     },
     "execution_count": 16,
     "metadata": {},
     "output_type": "execute_result"
    }
   ],
   "source": [
    "# Series to be used for pyplot Bar Chart below for series 'treatment' and 'mouse_number'.\n",
    "mouse_countby_study"
   ]
  },
  {
   "cell_type": "code",
   "execution_count": 17,
   "metadata": {},
   "outputs": [
    {
     "data": {
      "image/png": "[encoded data removed]",
      "text/plain": [
       "<Figure size 432x288 with 1 Axes>"
      ]
     },
     "metadata": {
      "needs_background": "light"
     },
     "output_type": "display_data"
    }
   ],
   "source": [
    "# Homework Requirement\n",
    "# Generate a bar plot showing the total number of mice for each treatment throughout the course of the study using pyplot.\n",
    "\n",
    "\n",
    "# Create list of treatments for x axis and y axis based on mouse_countby_study series\n",
    "treatment = ['Capomulin', 'Ceftamin', 'Infubinol', 'Ketapril', 'Naftisol',\n",
    "            'Placebo', 'Propriva', 'Ramicane', 'Stelasyn', 'Zoniferol']\n",
    "mouse_numbers = [25, 25, 25, 25, 25, 25, 25, 25, 24, 25]\n",
    "\n",
    "x_axis = np.arange(0, len(mouse_numbers))\n",
    "tick_locations = []\n",
    "for x in x_axis:\n",
    "    tick_locations.append(x)\n",
    "\n",
    "plt.xticks(tick_locations, treatment, rotation='vertical')\n",
    "\n",
    "plt.bar(treatment, mouse_numbers, color='r', alpha=1, align='center')\n",
    "plt.title(\"Pymaceuticals Drug Study\")\n",
    "plt.ylabel(\"Number of Mice per Study\")\n",
    "plt.xlabel(\"Treatment Names\")\n",
    "plt.show()"
   ]
  },
  {
   "cell_type": "code",
   "execution_count": 18,
   "metadata": {},
   "outputs": [
    {
     "data": {
      "image/png": "[encoded data removed]",
      "text/plain": [
       "<Figure size 324x324 with 1 Axes>"
      ]
     },
     "metadata": {},
     "output_type": "display_data"
    }
   ],
   "source": [
    "# Homework Requirement\n",
    "# Generate a pie plot showing the distribution of female versus male mice using pandas\n",
    "\n",
    "# Groupby sex and use Mouse ID counts for pie plot\n",
    "pie_study_group = clean_mouse_study.groupby(['Sex'])\n",
    "pie_mouse_count = pie_study_group['Mouse ID'].nunique()\n",
    "\n",
    "colors = ['lightcoral', 'lightskyblue'] \n",
    "explode = (0, 0)\n",
    "pie_mouse_count.plot.pie(figsize=(4.5,4.5,), explode=explode, colors=colors, autopct='%1.1f%%', shadow=True, startangle=140)\n",
    "plt.show()\n"
   ]
  },
  {
   "cell_type": "code",
   "execution_count": 19,
   "metadata": {},
   "outputs": [
    {
     "data": {
      "text/plain": [
       "Sex\n",
       "Female    124\n",
       "Male      125\n",
       "Name: Mouse ID, dtype: int64"
      ]
     },
     "execution_count": 19,
     "metadata": {},
     "output_type": "execute_result"
    }
   ],
   "source": [
    "# Series used to plot pie chart, for series 'label' and 'sizes'.\n",
    "pie_mouse_count"
   ]
  },
  {
   "cell_type": "code",
   "execution_count": 20,
   "metadata": {},
   "outputs": [
    {
     "data": {
      "image/png": "[encoded data removed]",
      "text/plain": [
       "<Figure size 432x288 with 1 Axes>"
      ]
     },
     "metadata": {},
     "output_type": "display_data"
    }
   ],
   "source": [
    "# Homework Requirement\n",
    "# Generate a pie plot showing the distribution of female versus male mice using pyplot\n",
    "labels = ['Female', 'Male']\n",
    "sizes = [124, 125]\n",
    "\n",
    "colors = ['lightcoral', 'lightskyblue']\n",
    "explode = (0, 0)\n",
    "\n",
    "plt.pie(sizes, explode=explode, labels=labels, colors=colors, autopct='%1.1f%%', shadow=True, startangle=140)\n",
    "plt.axis('equal')\n",
    "plt.show()"
   ]
  },
  {
   "cell_type": "markdown",
   "metadata": {},
   "source": [
    "## Quartiles, Outliers and Boxplots"
   ]
  },
  {
   "cell_type": "code",
   "execution_count": 21,
   "metadata": {},
   "outputs": [],
   "source": [
    "# Homework Requirement\n",
    "# Calculate the final tumor volume of each mouse across four of the treatment regimens:  \n",
    "# Capomulin, Ramicane, Infubinol, and Ceftamin\n",
    "# Start by getting the last (greatest) timepoint for each mouse\n",
    "# Merge this group df with the original dataframe to get the tumor volume at the last timepoint"
   ]
  },
  {
   "cell_type": "code",
   "execution_count": 22,
   "metadata": {},
   "outputs": [
    {
     "data": {
      "text/html": [
       "<div>\n",
       "<style scoped>\n",
       "    .dataframe tbody tr th:only-of-type {\n",
       "        vertical-align: middle;\n",
       "    }\n",
       "\n",
       "    .dataframe tbody tr th {\n",
       "        vertical-align: top;\n",
       "    }\n",
       "\n",
       "    .dataframe thead th {\n",
       "        text-align: right;\n",
       "    }\n",
       "</style>\n",
       "<table border=\"1\" class=\"dataframe\">\n",
       "  <thead>\n",
       "    <tr style=\"text-align: right;\">\n",
       "      <th></th>\n",
       "      <th>Max Timepoint</th>\n",
       "    </tr>\n",
       "    <tr>\n",
       "      <th>Mouse ID</th>\n",
       "      <th></th>\n",
       "    </tr>\n",
       "  </thead>\n",
       "  <tbody>\n",
       "    <tr>\n",
       "      <th>a203</th>\n",
       "      <td>45</td>\n",
       "    </tr>\n",
       "    <tr>\n",
       "      <th>a251</th>\n",
       "      <td>45</td>\n",
       "    </tr>\n",
       "    <tr>\n",
       "      <th>a262</th>\n",
       "      <td>45</td>\n",
       "    </tr>\n",
       "    <tr>\n",
       "      <th>a275</th>\n",
       "      <td>45</td>\n",
       "    </tr>\n",
       "    <tr>\n",
       "      <th>a366</th>\n",
       "      <td>30</td>\n",
       "    </tr>\n",
       "    <tr>\n",
       "      <th>...</th>\n",
       "      <td>...</td>\n",
       "    </tr>\n",
       "    <tr>\n",
       "      <th>z435</th>\n",
       "      <td>10</td>\n",
       "    </tr>\n",
       "    <tr>\n",
       "      <th>z578</th>\n",
       "      <td>45</td>\n",
       "    </tr>\n",
       "    <tr>\n",
       "      <th>z581</th>\n",
       "      <td>45</td>\n",
       "    </tr>\n",
       "    <tr>\n",
       "      <th>z795</th>\n",
       "      <td>45</td>\n",
       "    </tr>\n",
       "    <tr>\n",
       "      <th>z969</th>\n",
       "      <td>45</td>\n",
       "    </tr>\n",
       "  </tbody>\n",
       "</table>\n",
       "<p>249 rows × 1 columns</p>\n",
       "</div>"
      ],
      "text/plain": [
       "          Max Timepoint\n",
       "Mouse ID               \n",
       "a203                 45\n",
       "a251                 45\n",
       "a262                 45\n",
       "a275                 45\n",
       "a366                 30\n",
       "...                 ...\n",
       "z435                 10\n",
       "z578                 45\n",
       "z581                 45\n",
       "z795                 45\n",
       "z969                 45\n",
       "\n",
       "[249 rows x 1 columns]"
      ]
     },
     "execution_count": 22,
     "metadata": {},
     "output_type": "execute_result"
    }
   ],
   "source": [
    "# Start by getting the last (greatest timepoint for each mouse)\n",
    "tumor_study = clean_mouse_study.groupby([\"Mouse ID\"])\n",
    "mouse_max_timept = tumor_study['Timepoint'].max()\n",
    "\n",
    "# DataFrame Mouse ID with Greatest Timepoint for each mouse\n",
    "maxtimept_summary = pd.DataFrame({\"Max Timepoint\": mouse_max_timept})\n",
    "maxtimept_summary"
   ]
  },
  {
   "cell_type": "code",
   "execution_count": 23,
   "metadata": {},
   "outputs": [
    {
     "data": {
      "text/html": [
       "<div>\n",
       "<style scoped>\n",
       "    .dataframe tbody tr th:only-of-type {\n",
       "        vertical-align: middle;\n",
       "    }\n",
       "\n",
       "    .dataframe tbody tr th {\n",
       "        vertical-align: top;\n",
       "    }\n",
       "\n",
       "    .dataframe thead th {\n",
       "        text-align: right;\n",
       "    }\n",
       "</style>\n",
       "<table border=\"1\" class=\"dataframe\">\n",
       "  <thead>\n",
       "    <tr style=\"text-align: right;\">\n",
       "      <th></th>\n",
       "      <th>Mouse ID</th>\n",
       "      <th>Drug Regimen</th>\n",
       "      <th>Sex</th>\n",
       "      <th>Age_months</th>\n",
       "      <th>Weight (g)</th>\n",
       "      <th>Timepoint</th>\n",
       "      <th>Tumor Volume (mm3)</th>\n",
       "      <th>Metastatic Sites</th>\n",
       "      <th>Max Timepoint</th>\n",
       "    </tr>\n",
       "  </thead>\n",
       "  <tbody>\n",
       "    <tr>\n",
       "      <th>0</th>\n",
       "      <td>k403</td>\n",
       "      <td>Ramicane</td>\n",
       "      <td>Male</td>\n",
       "      <td>21</td>\n",
       "      <td>16</td>\n",
       "      <td>0</td>\n",
       "      <td>45.000000</td>\n",
       "      <td>0</td>\n",
       "      <td>45</td>\n",
       "    </tr>\n",
       "    <tr>\n",
       "      <th>1</th>\n",
       "      <td>k403</td>\n",
       "      <td>Ramicane</td>\n",
       "      <td>Male</td>\n",
       "      <td>21</td>\n",
       "      <td>16</td>\n",
       "      <td>5</td>\n",
       "      <td>38.825898</td>\n",
       "      <td>0</td>\n",
       "      <td>45</td>\n",
       "    </tr>\n",
       "    <tr>\n",
       "      <th>2</th>\n",
       "      <td>k403</td>\n",
       "      <td>Ramicane</td>\n",
       "      <td>Male</td>\n",
       "      <td>21</td>\n",
       "      <td>16</td>\n",
       "      <td>10</td>\n",
       "      <td>35.014271</td>\n",
       "      <td>1</td>\n",
       "      <td>45</td>\n",
       "    </tr>\n",
       "    <tr>\n",
       "      <th>3</th>\n",
       "      <td>k403</td>\n",
       "      <td>Ramicane</td>\n",
       "      <td>Male</td>\n",
       "      <td>21</td>\n",
       "      <td>16</td>\n",
       "      <td>15</td>\n",
       "      <td>34.223992</td>\n",
       "      <td>1</td>\n",
       "      <td>45</td>\n",
       "    </tr>\n",
       "    <tr>\n",
       "      <th>4</th>\n",
       "      <td>k403</td>\n",
       "      <td>Ramicane</td>\n",
       "      <td>Male</td>\n",
       "      <td>21</td>\n",
       "      <td>16</td>\n",
       "      <td>20</td>\n",
       "      <td>32.997729</td>\n",
       "      <td>1</td>\n",
       "      <td>45</td>\n",
       "    </tr>\n",
       "  </tbody>\n",
       "</table>\n",
       "</div>"
      ],
      "text/plain": [
       "  Mouse ID Drug Regimen   Sex  Age_months  Weight (g)  Timepoint  \\\n",
       "0     k403     Ramicane  Male          21          16          0   \n",
       "1     k403     Ramicane  Male          21          16          5   \n",
       "2     k403     Ramicane  Male          21          16         10   \n",
       "3     k403     Ramicane  Male          21          16         15   \n",
       "4     k403     Ramicane  Male          21          16         20   \n",
       "\n",
       "   Tumor Volume (mm3)  Metastatic Sites  Max Timepoint  \n",
       "0           45.000000                 0             45  \n",
       "1           38.825898                 0             45  \n",
       "2           35.014271                 1             45  \n",
       "3           34.223992                 1             45  \n",
       "4           32.997729                 1             45  "
      ]
     },
     "execution_count": 23,
     "metadata": {},
     "output_type": "execute_result"
    }
   ],
   "source": [
    "# Merge maxtimept_summary with clean_mouse_study DataFrame\n",
    "# New merged: tumor_study_df DataFrame with 'Max Timepoint' column added.\n",
    "\n",
    "tumor_study_df = pd.merge(clean_mouse_study, maxtimept_summary, on='Mouse ID', how='inner')\n",
    "tumor_study_df.head()"
   ]
  },
  {
   "cell_type": "code",
   "execution_count": 24,
   "metadata": {},
   "outputs": [
    {
     "data": {
      "text/html": [
       "<div>\n",
       "<style scoped>\n",
       "    .dataframe tbody tr th:only-of-type {\n",
       "        vertical-align: middle;\n",
       "    }\n",
       "\n",
       "    .dataframe tbody tr th {\n",
       "        vertical-align: top;\n",
       "    }\n",
       "\n",
       "    .dataframe thead th {\n",
       "        text-align: right;\n",
       "    }\n",
       "</style>\n",
       "<table border=\"1\" class=\"dataframe\">\n",
       "  <thead>\n",
       "    <tr style=\"text-align: right;\">\n",
       "      <th></th>\n",
       "      <th>Mouse ID</th>\n",
       "      <th>Drug Regimen</th>\n",
       "      <th>Sex</th>\n",
       "      <th>Age_months</th>\n",
       "      <th>Weight (g)</th>\n",
       "      <th>Timepoint</th>\n",
       "      <th>Tumor Volume (mm3)</th>\n",
       "      <th>Metastatic Sites</th>\n",
       "      <th>Max Timepoint</th>\n",
       "      <th>Timepoint Less Max Timepoint</th>\n",
       "    </tr>\n",
       "  </thead>\n",
       "  <tbody>\n",
       "    <tr>\n",
       "      <th>9</th>\n",
       "      <td>k403</td>\n",
       "      <td>Ramicane</td>\n",
       "      <td>Male</td>\n",
       "      <td>21</td>\n",
       "      <td>16</td>\n",
       "      <td>45</td>\n",
       "      <td>22.050126</td>\n",
       "      <td>1</td>\n",
       "      <td>45</td>\n",
       "      <td>0</td>\n",
       "    </tr>\n",
       "    <tr>\n",
       "      <th>19</th>\n",
       "      <td>s185</td>\n",
       "      <td>Capomulin</td>\n",
       "      <td>Female</td>\n",
       "      <td>3</td>\n",
       "      <td>17</td>\n",
       "      <td>45</td>\n",
       "      <td>23.343598</td>\n",
       "      <td>1</td>\n",
       "      <td>45</td>\n",
       "      <td>0</td>\n",
       "    </tr>\n",
       "    <tr>\n",
       "      <th>29</th>\n",
       "      <td>x401</td>\n",
       "      <td>Capomulin</td>\n",
       "      <td>Female</td>\n",
       "      <td>16</td>\n",
       "      <td>15</td>\n",
       "      <td>45</td>\n",
       "      <td>28.484033</td>\n",
       "      <td>0</td>\n",
       "      <td>45</td>\n",
       "      <td>0</td>\n",
       "    </tr>\n",
       "    <tr>\n",
       "      <th>39</th>\n",
       "      <td>m601</td>\n",
       "      <td>Capomulin</td>\n",
       "      <td>Male</td>\n",
       "      <td>22</td>\n",
       "      <td>17</td>\n",
       "      <td>45</td>\n",
       "      <td>28.430964</td>\n",
       "      <td>1</td>\n",
       "      <td>45</td>\n",
       "      <td>0</td>\n",
       "    </tr>\n",
       "    <tr>\n",
       "      <th>49</th>\n",
       "      <td>g791</td>\n",
       "      <td>Ramicane</td>\n",
       "      <td>Male</td>\n",
       "      <td>11</td>\n",
       "      <td>16</td>\n",
       "      <td>45</td>\n",
       "      <td>29.128472</td>\n",
       "      <td>1</td>\n",
       "      <td>45</td>\n",
       "      <td>0</td>\n",
       "    </tr>\n",
       "  </tbody>\n",
       "</table>\n",
       "</div>"
      ],
      "text/plain": [
       "   Mouse ID Drug Regimen     Sex  Age_months  Weight (g)  Timepoint  \\\n",
       "9      k403     Ramicane    Male          21          16         45   \n",
       "19     s185    Capomulin  Female           3          17         45   \n",
       "29     x401    Capomulin  Female          16          15         45   \n",
       "39     m601    Capomulin    Male          22          17         45   \n",
       "49     g791     Ramicane    Male          11          16         45   \n",
       "\n",
       "    Tumor Volume (mm3)  Metastatic Sites  Max Timepoint  \\\n",
       "9            22.050126                 1             45   \n",
       "19           23.343598                 1             45   \n",
       "29           28.484033                 0             45   \n",
       "39           28.430964                 1             45   \n",
       "49           29.128472                 1             45   \n",
       "\n",
       "    Timepoint Less Max Timepoint  \n",
       "9                              0  \n",
       "19                             0  \n",
       "29                             0  \n",
       "39                             0  \n",
       "49                             0  "
      ]
     },
     "execution_count": 24,
     "metadata": {},
     "output_type": "execute_result"
    }
   ],
   "source": [
    "# Note: Trouble getting the final Tumor Volumne (mm3), after merge.  Tried to do a 'drop_duplicates' with keep='last', but \n",
    "# the Tumor Volume (mm3) values resulted to 0.  Performed a calc on columns Timepoint less Max Timepoint instead.\n",
    "# Assumption: If Timepoint less Max Timepoint value = 0, then Tumor Volume (mm3) can be kept when loc is used.\n",
    "\n",
    "# Add new Column \"Timepoint less Max Timepoint\" to calculate the difference in columns 'Timepoint and 'Max Timepoint',\n",
    "# the 0 result represents the row with the final tumor size.\n",
    "# Note this is a meaningless column, it was added just to be able to pull the Final Tumor value for each Mouse ID.\n",
    "\n",
    "timept_less_maxtime = tumor_study_df[\"Timepoint\"] - tumor_study_df[\"Max Timepoint\"]\n",
    "\n",
    "tumor_study_df[\"Timepoint Less Max Timepoint\"] = timept_less_maxtime\n",
    "final_tumor_size = tumor_study_df.loc[tumor_study_df['Timepoint Less Max Timepoint'] == 0, :]\n",
    "final_tumor_size.head()"
   ]
  },
  {
   "cell_type": "code",
   "execution_count": 25,
   "metadata": {},
   "outputs": [
    {
     "data": {
      "text/html": [
       "<div>\n",
       "<style scoped>\n",
       "    .dataframe tbody tr th:only-of-type {\n",
       "        vertical-align: middle;\n",
       "    }\n",
       "\n",
       "    .dataframe tbody tr th {\n",
       "        vertical-align: top;\n",
       "    }\n",
       "\n",
       "    .dataframe thead th {\n",
       "        text-align: right;\n",
       "    }\n",
       "</style>\n",
       "<table border=\"1\" class=\"dataframe\">\n",
       "  <thead>\n",
       "    <tr style=\"text-align: right;\">\n",
       "      <th></th>\n",
       "      <th>Mouse ID</th>\n",
       "      <th>Drug Regimen</th>\n",
       "      <th>Sex</th>\n",
       "      <th>Age_months</th>\n",
       "      <th>Weight (g)</th>\n",
       "      <th>Timepoint</th>\n",
       "      <th>Tumor Volume (mm3)</th>\n",
       "    </tr>\n",
       "  </thead>\n",
       "  <tbody>\n",
       "    <tr>\n",
       "      <th>9</th>\n",
       "      <td>k403</td>\n",
       "      <td>Ramicane</td>\n",
       "      <td>Male</td>\n",
       "      <td>21</td>\n",
       "      <td>16</td>\n",
       "      <td>45</td>\n",
       "      <td>22.050126</td>\n",
       "    </tr>\n",
       "    <tr>\n",
       "      <th>19</th>\n",
       "      <td>s185</td>\n",
       "      <td>Capomulin</td>\n",
       "      <td>Female</td>\n",
       "      <td>3</td>\n",
       "      <td>17</td>\n",
       "      <td>45</td>\n",
       "      <td>23.343598</td>\n",
       "    </tr>\n",
       "    <tr>\n",
       "      <th>29</th>\n",
       "      <td>x401</td>\n",
       "      <td>Capomulin</td>\n",
       "      <td>Female</td>\n",
       "      <td>16</td>\n",
       "      <td>15</td>\n",
       "      <td>45</td>\n",
       "      <td>28.484033</td>\n",
       "    </tr>\n",
       "    <tr>\n",
       "      <th>39</th>\n",
       "      <td>m601</td>\n",
       "      <td>Capomulin</td>\n",
       "      <td>Male</td>\n",
       "      <td>22</td>\n",
       "      <td>17</td>\n",
       "      <td>45</td>\n",
       "      <td>28.430964</td>\n",
       "    </tr>\n",
       "    <tr>\n",
       "      <th>49</th>\n",
       "      <td>g791</td>\n",
       "      <td>Ramicane</td>\n",
       "      <td>Male</td>\n",
       "      <td>11</td>\n",
       "      <td>16</td>\n",
       "      <td>45</td>\n",
       "      <td>29.128472</td>\n",
       "    </tr>\n",
       "    <tr>\n",
       "      <th>...</th>\n",
       "      <td>...</td>\n",
       "      <td>...</td>\n",
       "      <td>...</td>\n",
       "      <td>...</td>\n",
       "      <td>...</td>\n",
       "      <td>...</td>\n",
       "      <td>...</td>\n",
       "    </tr>\n",
       "    <tr>\n",
       "      <th>1792</th>\n",
       "      <td>x822</td>\n",
       "      <td>Ceftamin</td>\n",
       "      <td>Male</td>\n",
       "      <td>3</td>\n",
       "      <td>29</td>\n",
       "      <td>45</td>\n",
       "      <td>61.386660</td>\n",
       "    </tr>\n",
       "    <tr>\n",
       "      <th>1808</th>\n",
       "      <td>y163</td>\n",
       "      <td>Infubinol</td>\n",
       "      <td>Female</td>\n",
       "      <td>17</td>\n",
       "      <td>27</td>\n",
       "      <td>45</td>\n",
       "      <td>67.685569</td>\n",
       "    </tr>\n",
       "    <tr>\n",
       "      <th>1840</th>\n",
       "      <td>y769</td>\n",
       "      <td>Ceftamin</td>\n",
       "      <td>Female</td>\n",
       "      <td>6</td>\n",
       "      <td>27</td>\n",
       "      <td>45</td>\n",
       "      <td>68.594745</td>\n",
       "    </tr>\n",
       "    <tr>\n",
       "      <th>1850</th>\n",
       "      <td>y865</td>\n",
       "      <td>Ceftamin</td>\n",
       "      <td>Male</td>\n",
       "      <td>23</td>\n",
       "      <td>26</td>\n",
       "      <td>45</td>\n",
       "      <td>64.729837</td>\n",
       "    </tr>\n",
       "    <tr>\n",
       "      <th>1867</th>\n",
       "      <td>z581</td>\n",
       "      <td>Infubinol</td>\n",
       "      <td>Female</td>\n",
       "      <td>24</td>\n",
       "      <td>25</td>\n",
       "      <td>45</td>\n",
       "      <td>62.754451</td>\n",
       "    </tr>\n",
       "  </tbody>\n",
       "</table>\n",
       "<p>100 rows × 7 columns</p>\n",
       "</div>"
      ],
      "text/plain": [
       "     Mouse ID Drug Regimen     Sex  Age_months  Weight (g)  Timepoint  \\\n",
       "9        k403     Ramicane    Male          21          16         45   \n",
       "19       s185    Capomulin  Female           3          17         45   \n",
       "29       x401    Capomulin  Female          16          15         45   \n",
       "39       m601    Capomulin    Male          22          17         45   \n",
       "49       g791     Ramicane    Male          11          16         45   \n",
       "...       ...          ...     ...         ...         ...        ...   \n",
       "1792     x822     Ceftamin    Male           3          29         45   \n",
       "1808     y163    Infubinol  Female          17          27         45   \n",
       "1840     y769     Ceftamin  Female           6          27         45   \n",
       "1850     y865     Ceftamin    Male          23          26         45   \n",
       "1867     z581    Infubinol  Female          24          25         45   \n",
       "\n",
       "      Tumor Volume (mm3)  \n",
       "9              22.050126  \n",
       "19             23.343598  \n",
       "29             28.484033  \n",
       "39             28.430964  \n",
       "49             29.128472  \n",
       "...                  ...  \n",
       "1792           61.386660  \n",
       "1808           67.685569  \n",
       "1840           68.594745  \n",
       "1850           64.729837  \n",
       "1867           62.754451  \n",
       "\n",
       "[100 rows x 7 columns]"
      ]
     },
     "execution_count": 25,
     "metadata": {},
     "output_type": "execute_result"
    }
   ],
   "source": [
    "# Calculate the final tumor volume of each mouse across four of the treatment regimens:\n",
    "# Capomulin(c), Ramicane(r), Infubinol(i), and Ceftamin(c)\n",
    "# New dataframe only contains the Mouse IDs for the 4 Drug Regimens, and only showing valid columns.\n",
    "\n",
    "cric_study_df = final_tumor_size.loc[(final_tumor_size['Drug Regimen'] == 'Capomulin') | \n",
    "                                 (final_tumor_size['Drug Regimen'] == 'Ramicane') | \n",
    "                                 (final_tumor_size['Drug Regimen'] == 'Infubinol') |\n",
    "                                 (final_tumor_size['Drug Regimen'] == 'Ceftamin'), : 'Tumor Volume (mm3)']\n",
    "cric_study_df"
   ]
  },
  {
   "cell_type": "code",
   "execution_count": 26,
   "metadata": {},
   "outputs": [
    {
     "data": {
      "text/html": [
       "<div>\n",
       "<style scoped>\n",
       "    .dataframe tbody tr th:only-of-type {\n",
       "        vertical-align: middle;\n",
       "    }\n",
       "\n",
       "    .dataframe tbody tr th {\n",
       "        vertical-align: top;\n",
       "    }\n",
       "\n",
       "    .dataframe thead th {\n",
       "        text-align: right;\n",
       "    }\n",
       "</style>\n",
       "<table border=\"1\" class=\"dataframe\">\n",
       "  <thead>\n",
       "    <tr style=\"text-align: right;\">\n",
       "      <th></th>\n",
       "      <th>Interquartile Range</th>\n",
       "      <th>Lower Bound</th>\n",
       "      <th>Upper Bound</th>\n",
       "    </tr>\n",
       "  </thead>\n",
       "  <tbody>\n",
       "    <tr>\n",
       "      <th>Capomulin</th>\n",
       "      <td>7.78</td>\n",
       "      <td>20.71</td>\n",
       "      <td>44.05</td>\n",
       "    </tr>\n",
       "    <tr>\n",
       "      <th>Ramicane</th>\n",
       "      <td>9.1</td>\n",
       "      <td>17.91</td>\n",
       "      <td>45.21</td>\n",
       "    </tr>\n",
       "    <tr>\n",
       "      <th>Infubinol</th>\n",
       "      <td>11.48</td>\n",
       "      <td>36.83</td>\n",
       "      <td>71.27</td>\n",
       "    </tr>\n",
       "    <tr>\n",
       "      <th>Ceftamin</th>\n",
       "      <td>15.58</td>\n",
       "      <td>25.35</td>\n",
       "      <td>72.09</td>\n",
       "    </tr>\n",
       "  </tbody>\n",
       "</table>\n",
       "</div>"
      ],
      "text/plain": [
       "          Interquartile Range  Lower Bound  Upper Bound \n",
       "Capomulin                 7.78        20.71        44.05\n",
       "Ramicane                   9.1        17.91        45.21\n",
       "Infubinol                11.48        36.83        71.27\n",
       "Ceftamin                 15.58        25.35        72.09"
      ]
     },
     "execution_count": 26,
     "metadata": {},
     "output_type": "execute_result"
    }
   ],
   "source": [
    "# Homework Requirement\n",
    "# Put treatments into a list for for loop (and later for plot labels)\n",
    "# Drug Regimen Series by Treatment\n",
    "capomulin = cric_study_df.loc[cric_study_df[\"Drug Regimen\"] == 'Capomulin', 'Tumor Volume (mm3)']\n",
    "ramicane = cric_study_df.loc[cric_study_df[\"Drug Regimen\"] == 'Ramicane', 'Tumor Volume (mm3)']\n",
    "infubinol = cric_study_df.loc[cric_study_df[\"Drug Regimen\"] == 'Infubinol', 'Tumor Volume (mm3)']\n",
    "ceftamin = cric_study_df.loc[cric_study_df[\"Drug Regimen\"] == 'Ceftamin', 'Tumor Volume (mm3)']\n",
    "\n",
    "# Create empty list to fill with tumor vol data (for plotting)\n",
    "# Convert df Series as list for plotting\n",
    "drug_capomulin = capomulin.tolist()\n",
    "drug_ramicane = ramicane.tolist()\n",
    "drug_infubinol = infubinol.tolist()\n",
    "drug_ceftamin = ceftamin.tolist()\n",
    "\n",
    "# Sort Treatment lists to determine Outliers, tumor volume (mm3)\n",
    "drug_capomulin.sort()\n",
    "drug_ramicane.sort()\n",
    "drug_infubinol.sort()\n",
    "drug_ceftamin.sort()\n",
    "\n",
    "# Calculate the IQR (interquartile range) and quantitatively determine if there are any potential outliers. \n",
    "# Capomulin treatment IQR, Lower Bound, Upper Bound\n",
    "capomulin_data = drug_capomulin\n",
    "capomulin_q1 = round(np.percentile(capomulin_data, 25, interpolation = 'midpoint'), 2)\n",
    "capomulin_q3 = round(np.percentile(capomulin_data, 75, interpolation = 'midpoint'), 2)\n",
    "capomulin_iqr = round((capomulin_q3 - capomulin_q1),2)\n",
    "cap_lower_bound = round(capomulin_q1 - (1.5*capomulin_iqr), 2)\n",
    "cap_upper_bound = round(capomulin_q1 + (1.5*capomulin_iqr), 2)\n",
    "\n",
    "# Ramicane treatment IQR, Lower Bound, Upper Bound\n",
    "ramicane_data = drug_ramicane\n",
    "ramicane_q1 = round(np.percentile(ramicane_data, 25, interpolation = 'midpoint'), 2)\n",
    "ramicane_q3 = round(np.percentile(ramicane_data, 75, interpolation = 'midpoint'), 2)\n",
    "ramicane_iqr = round((ramicane_q3 - ramicane_q1), 2)\n",
    "ram_lower_bound = round(ramicane_q1 - (1.5*ramicane_iqr), 2)\n",
    "ram_upper_bound = round(ramicane_q1 + (1.5*ramicane_iqr), 2)\n",
    "\n",
    "\n",
    "# Infubinol treatment IQR, Lower Bound, Upper Bound\n",
    "infubinol_data = drug_infubinol\n",
    "infubinol_q1 = round(np.percentile(infubinol_data, 25, interpolation = 'midpoint'), 2)\n",
    "infubinol_q3 = round(np.percentile(infubinol_data, 75, interpolation = 'midpoint'), 2)\n",
    "infubinol_iqr = round((infubinol_q3 - infubinol_q1), 2)\n",
    "inf_lower_bound = round(infubinol_q1 - (1.5*infubinol_iqr), 2)\n",
    "inf_upper_bound = round(infubinol_q1 + (1.5*infubinol_iqr), 2)\n",
    "\n",
    "\n",
    "# Ceftamin treatment IQR, Lower Bound, Upper Bound\n",
    "ceftamin_data = drug_ceftamin\n",
    "ceftamin_q1 = round(np.percentile(ceftamin_data, 25, interpolation = 'midpoint'),2)\n",
    "ceftamin_q3 = round(np.percentile(ceftamin_data, 75, interpolation = 'midpoint'),2)\n",
    "ceftamin_iqr = round((ceftamin_q3 - ceftamin_q1), 2)\n",
    "cef_lower_bound = round(ceftamin_q1 - (1.5*ceftamin_iqr), 2)\n",
    "cef_upper_bound = round(ceftamin_q1 + (1.5*ceftamin_iqr), 2)\n",
    "\n",
    "\n",
    "# Locate the rows which contain mice on each drug and get the tumor volumes\n",
    "mouse_drug_vol = cric_study_df[['Mouse ID', 'Drug Regimen', 'Tumor Volume (mm3)']]\n",
    "sort_mouse_drug_vol = mouse_drug_vol.sort_values(['Drug Regimen', 'Tumor Volume (mm3)'])\n",
    "\n",
    "# For Box plotting get Mouse ID by Drug Regimen and by Tumor Volume (mm3) for each drug regimen\n",
    "boxplt_capomulin = sort_mouse_drug_vol.loc[sort_mouse_drug_vol['Drug Regimen'] == 'Capomulin']\n",
    "boxplt_ramicane = sort_mouse_drug_vol.loc[sort_mouse_drug_vol['Drug Regimen'] == 'Ramicane']\n",
    "boxplt_infubinol = sort_mouse_drug_vol.loc[sort_mouse_drug_vol['Drug Regimen'] == 'Infubinol']\n",
    "boxplt_ceftamin = sort_mouse_drug_vol.loc[sort_mouse_drug_vol['Drug Regimen'] == 'Ceftamin']\n",
    "\n",
    "# add subset \n",
    "# Determine outliers using upper and lower bounds\n",
    "# Summary of Quartiles and Outliers\n",
    "iqr_outliers_data = ({\"Interquartile Range \": [str(capomulin_iqr), str(ramicane_iqr), str(infubinol_iqr), str(ceftamin_iqr)],\n",
    "                       \"Lower Bound \": [str(cap_lower_bound), str(ram_lower_bound), str(inf_lower_bound), str(cef_lower_bound)],\n",
    "                       \"Upper Bound \": [str(cap_upper_bound), str(ram_upper_bound), str(inf_upper_bound), str(cef_upper_bound)]\n",
    "                     })\n",
    "\n",
    "labels_iqr = ['Capomulin', 'Ramicane', 'Infubinol', 'Ceftamin']\n",
    "\n",
    "summary_iqr_outliers = pd.DataFrame(iqr_outliers_data, index=labels_iqr)\n",
    "summary_iqr_outliers"
   ]
  },
  {
   "cell_type": "code",
   "execution_count": 27,
   "metadata": {},
   "outputs": [],
   "source": [
    "# Homework Requirement\n",
    "# Generate a box plot of the final tumor volume of each mouse across four regimens of interest"
   ]
  },
  {
   "cell_type": "code",
   "execution_count": 28,
   "metadata": {},
   "outputs": [
    {
     "data": {
      "image/png": "[encoded data removed]",
      "text/plain": [
       "<Figure size 432x288 with 1 Axes>"
      ]
     },
     "metadata": {
      "needs_background": "light"
     },
     "output_type": "display_data"
    }
   ],
   "source": [
    "# Boxplot for Drug Regimen Capomulin\n",
    "# tumor volume (mm3) for Capomulin\n",
    "\n",
    "# Calculate the SEM for Capomulin to be used for Boxplot\n",
    "boxcap = pd.DataFrame(boxplt_capomulin)\n",
    "boxcap_sem = boxcap[\"Tumor Volume (mm3)\"].sem()\n",
    "\n",
    "mouse_id_capomulin = boxplt_capomulin['Mouse ID']\n",
    "mouse_id_cap = np.arange(0, len(mouse_id_capomulin), 1) + 1\n",
    "\n",
    "fig, ax = plt.subplots()\n",
    "ax.errorbar(mouse_id_cap, drug_capomulin, boxcap_sem, fmt='+')\n",
    "ax.set_xlim(0, 26) \n",
    "ax.set_ylim(20, 50)\n",
    "ax.set_title('Drug Regimen Capomulin')\n",
    "ax.set_xlabel('Mouse ID')\n",
    "ax.set_ylabel('Tumor Volume (mm3)')\n",
    "plt.show()"
   ]
  },
  {
   "cell_type": "code",
   "execution_count": 29,
   "metadata": {},
   "outputs": [
    {
     "data": {
      "image/png": "[encoded data removed]",
      "text/plain": [
       "<Figure size 432x288 with 1 Axes>"
      ]
     },
     "metadata": {
      "needs_background": "light"
     },
     "output_type": "display_data"
    }
   ],
   "source": [
    "# Boxplot for Drug Regimen Ramicane\n",
    "# tumor volume (mm3) for Ramicane\n",
    "\n",
    "# Calculate the SEM for Ramicane to be used for Boxplot\n",
    "boxram = pd.DataFrame(boxplt_ramicane)\n",
    "boxram_sem = boxram[\"Tumor Volume (mm3)\"].sem()\n",
    "\n",
    "mouse_id_ramicane = boxplt_ramicane['Mouse ID']\n",
    "mouse_id_ram = np.arange(0, len(mouse_id_ramicane), 1) + 1\n",
    "\n",
    "fig, ax = plt.subplots()\n",
    "ax.errorbar(mouse_id_ram, drug_ramicane, boxram_sem, fmt='+')\n",
    "ax.set_xlim(0, 26) \n",
    "ax.set_ylim(20, 50)\n",
    "ax.set_title('Drug Regimen Ramicane')\n",
    "ax.set_xlabel('Mouse ID')\n",
    "ax.set_ylabel('Tumor Volume (mm3)')\n",
    "plt.show()"
   ]
  },
  {
   "cell_type": "code",
   "execution_count": 30,
   "metadata": {},
   "outputs": [
    {
     "data": {
      "image/png": "[encoded data removed]",
      "text/plain": [
       "<Figure size 432x288 with 1 Axes>"
      ]
     },
     "metadata": {
      "needs_background": "light"
     },
     "output_type": "display_data"
    }
   ],
   "source": [
    "# Boxplot for Drug Regimen Infubinol\n",
    "# tumor volume (mm3) for Infubinol\n",
    "\n",
    "# Calculate the SEM for Infubinol to be used for Boxplot\n",
    "boxinf = pd.DataFrame(boxplt_infubinol)\n",
    "boxinf_sem = boxram[\"Tumor Volume (mm3)\"].sem()\n",
    "\n",
    "mouse_id_infubinol = boxplt_infubinol['Mouse ID']\n",
    "mouse_id_inf = np.arange(0, len(mouse_id_infubinol), 1) + 1\n",
    "\n",
    "fig, ax = plt.subplots()\n",
    "ax.errorbar(mouse_id_inf, drug_infubinol, boxinf_sem, fmt='+')\n",
    "ax.set_xlim(0, 26) \n",
    "ax.set_ylim(35, 75)\n",
    "ax.set_title('Drug Regimen Infubinol')\n",
    "ax.set_xlabel('Mouse ID')\n",
    "ax.set_ylabel('Tumor Volume (mm3)')\n",
    "plt.show()"
   ]
  },
  {
   "cell_type": "code",
   "execution_count": 31,
   "metadata": {},
   "outputs": [
    {
     "data": {
      "image/png": "[encoded data removed]",
      "text/plain": [
       "<Figure size 432x288 with 1 Axes>"
      ]
     },
     "metadata": {
      "needs_background": "light"
     },
     "output_type": "display_data"
    }
   ],
   "source": [
    "# Boxplot for Drug Regimen Ceftamin\n",
    "# tumor volume (mm3) for Ceftamin\n",
    "\n",
    "# Calculate the SEM for Ceftamin to be used for Boxplot\n",
    "boxcef = pd.DataFrame(boxplt_ceftamin)\n",
    "boxcef_sem = boxcef[\"Tumor Volume (mm3)\"].sem()\n",
    "\n",
    "mouse_id_ceftamin = boxplt_ceftamin['Mouse ID']\n",
    "mouse_id_cef = np.arange(0, len(mouse_id_ceftamin), 1) + 1\n",
    "\n",
    "fig, ax = plt.subplots()\n",
    "ax.errorbar(mouse_id_cef, drug_ceftamin, boxcef_sem, fmt='+')\n",
    "ax.set_xlim(0, 26) \n",
    "ax.set_ylim(40, 75)\n",
    "ax.set_title('Drug Regimen Ceftamin')\n",
    "ax.set_xlabel('Mouse ID')\n",
    "ax.set_ylabel('Tumor Volume (mm3)')\n",
    "plt.show()"
   ]
  },
  {
   "cell_type": "markdown",
   "metadata": {},
   "source": [
    "## Line and Scatter Plots"
   ]
  },
  {
   "cell_type": "code",
   "execution_count": 32,
   "metadata": {},
   "outputs": [],
   "source": [
    "# Homework Requirement\n",
    "# Generate a line plot of time point versus tumor volume for a mouse treated with Capomulin\n",
    "\n",
    "# Notes: Use the clean_mouse_study DataFrame which has the origial Mouse ID counts with all columns"
   ]
  },
  {
   "cell_type": "code",
   "execution_count": 33,
   "metadata": {},
   "outputs": [
    {
     "data": {
      "image/png": "[encoded data removed]",
      "text/plain": [
       "<Figure size 432x288 with 1 Axes>"
      ]
     },
     "metadata": {
      "needs_background": "light"
     },
     "output_type": "display_data"
    }
   ],
   "source": [
    "# Select mouse id s185 for plotting\n",
    "\n",
    "mouse_s185 = clean_mouse_study.loc[clean_mouse_study['Mouse ID'] == 's185', :]\n",
    "\n",
    "s185_x_axis = mouse_s185['Timepoint']\n",
    "s185_y_axis = mouse_s185['Tumor Volume (mm3)']\n",
    "\n",
    "s185_lineplt, = plt.plot(s185_x_axis, s185_y_axis, color='blue')\n",
    "plt.title('Mouse s185 Treated with Capomulin')\n",
    "plt.xlabel(\"Timepoint\")\n",
    "plt.ylabel('Tumor Volume (mm3)')\n",
    "plt.show()"
   ]
  },
  {
   "cell_type": "code",
   "execution_count": 34,
   "metadata": {},
   "outputs": [],
   "source": [
    "# Create dataframe that includes the Average Tumor Volume by Mouse ID\n",
    "# Use this same dataframe for the Correlation Coefficient and Linear Regression Model\n",
    "\n",
    "corr_capomulin = clean_mouse_study.loc[clean_mouse_study['Drug Regimen'] == 'Capomulin', :]\n",
    "corr_groupby_mouse = corr_capomulin.groupby('Mouse ID')\n",
    "corr_avg_tumor = corr_groupby_mouse['Tumor Volume (mm3)'].mean()\n",
    "\n",
    "corr_cap_summary = pd.DataFrame({\"Avg Tumor Volume\": corr_avg_tumor})"
   ]
  },
  {
   "cell_type": "code",
   "execution_count": 35,
   "metadata": {},
   "outputs": [],
   "source": [
    "# Merge the average tumor volume with existing dataframe for reporting\n",
    "capomulin_correlation = pd.merge(corr_capomulin, corr_cap_summary, on='Mouse ID', how='inner')"
   ]
  },
  {
   "cell_type": "code",
   "execution_count": 36,
   "metadata": {},
   "outputs": [
    {
     "data": {
      "image/png": "[encoded data removed]",
      "text/plain": [
       "<Figure size 432x288 with 1 Axes>"
      ]
     },
     "metadata": {
      "needs_background": "light"
     },
     "output_type": "display_data"
    }
   ],
   "source": [
    "# Homework Requirement\n",
    "# Generate a scatter plot of mouse weight versus average tumor volume for the Capomulin regimen\n",
    "\n",
    "x_values = capomulin_correlation['Weight (g)']\n",
    "y_values = capomulin_correlation['Avg Tumor Volume']\n",
    "\n",
    "plt.scatter(x_values, y_values, marker='o', facecolor='blue', edgecolors='black')\n",
    "plt.title('Capomulin - Mouse Weight vs Average Tumor Volume')\n",
    "plt.xlabel('Mouse by Weight')\n",
    "plt.ylabel(\"Average Tumor Volume per Mouse\")\n",
    "plt.show()"
   ]
  },
  {
   "cell_type": "markdown",
   "metadata": {},
   "source": [
    "## Correlation and Regression"
   ]
  },
  {
   "cell_type": "code",
   "execution_count": 37,
   "metadata": {},
   "outputs": [],
   "source": [
    "# Homework Requirement\n",
    "# Calculate the correlation coefficient and linear regression model \n",
    "# for mouse weight and average tumor volume for the Capomulin regimen"
   ]
  },
  {
   "cell_type": "code",
   "execution_count": 38,
   "metadata": {},
   "outputs": [
    {
     "name": "stdout",
     "output_type": "stream",
     "text": [
      "The correlation between weight and average tumor is 0.83\n"
     ]
    }
   ],
   "source": [
    "# Calculation the correlation coefficient by weight and average tumor volume\n",
    "\n",
    "mouse_weight_corr = capomulin_correlation.iloc[:, 4]\n",
    "avg_tumor_corr = capomulin_correlation.iloc[:, 8]\n",
    "correlation = st.pearsonr(mouse_weight_corr, avg_tumor_corr)\n",
    "\n",
    "print(f\"The correlation between weight and average tumor is {round(correlation[0],2)}\")"
   ]
  },
  {
   "cell_type": "code",
   "execution_count": 39,
   "metadata": {},
   "outputs": [
    {
     "data": {
      "image/png": "[encoded data removed]",
      "text/plain": [
       "<Figure size 432x288 with 1 Axes>"
      ]
     },
     "metadata": {
      "needs_background": "light"
     },
     "output_type": "display_data"
    }
   ],
   "source": [
    "# Linear Regression Model \n",
    "x_values = capomulin_correlation['Weight (g)']\n",
    "y_values = capomulin_correlation['Avg Tumor Volume']\n",
    "\n",
    "(slope, intercept, rvalue, pvalue, stderr) = linregress(x_values, y_values)\n",
    "regress_values = x_values * slope + intercept\n",
    "plt.scatter(x_values, y_values, marker='o', facecolor='blue', edgecolors='black')\n",
    "plt.plot(x_values, regress_values, 'r-')\n",
    "plt.title('Capomulin Linear Regression Weight vs Average Tumor Volume')\n",
    "plt.xlabel('Mouse by Weight')\n",
    "plt.ylabel(\"Average Tumor Volume per Mouse\")\n",
    "plt.show()"
   ]
  },
  {
   "cell_type": "code",
   "execution_count": null,
   "metadata": {},
   "outputs": [],
   "source": []
  }
 ],
 "metadata": {
  "anaconda-cloud": {},
  "kernelspec": {
   "display_name": "Python 3",
   "language": "python",
   "name": "python3"
  },
  "language_info": {
   "codemirror_mode": {
    "name": "ipython",
    "version": 3
   },
   "file_extension": ".py",
   "mimetype": "text/x-python",
   "name": "python",
   "nbconvert_exporter": "python",
   "pygments_lexer": "ipython3",
   "version": "3.7.6"
  }
 },
 "nbformat": 4,
 "nbformat_minor": 2
}
